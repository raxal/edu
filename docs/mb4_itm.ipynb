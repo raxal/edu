{
 "cells": [
  {
   "cell_type": "markdown",
   "metadata": {},
   "source": [
    "# Задания по CAS\n",
    "\n",
    "Получить ответы для задач с помощью системы компьютерной алгебры SageMath, а также с помощью сервиса [Wolfram|Alpha](https://www.wolframalpha.com/), предоставляющего вычислительные возможности системы Mathematica.\n",
    "\n",
    "Справку по [SageMath](http://www.sagemath.org/) ищите на официальном сайте.\n",
    "На русском языке есть краткое [Руководство](http://doc.sagemath.org/html/ru/tutorial/index.html)."
   ]
  },
  {
   "cell_type": "markdown",
   "metadata": {},
   "source": [
    "### задание 1\n",
    "\n",
    "Найти наименьшее и наибольшее из чисел $a^{67}, 187a^4, 3\\ln a^2$ при $a=3/2$.\n",
    "\n",
    "Найти НОК многочленов $(1-3i)x^8 - (3+5i)x^3$ и $7x^2 + 2 + 4i$"
   ]
  },
  {
   "cell_type": "markdown",
   "metadata": {},
   "source": [
    "### задание 2\n",
    "\n",
    "Решить уравнение $\\cos x = \\cos x^2$\n",
    "\n",
    "Найдите разложение вектора $(1,0,1,2)$ по векторам $(2,1,3,1)$, $(-1,3,-2,1)$, $(1,-1,2,-1)$, $(-1,-1,-2,1)$.\n",
    "\n",
    "Решить уравнение $x^4 - 3a x^2 + 2 = 0$, считая $x$ переменной, а $a$ - параметром.\n",
    "\n",
    "Решить в целых числах $x^2 = 3y + 1$."
   ]
  },
  {
   "cell_type": "markdown",
   "metadata": {},
   "source": [
    "### задание 3\n",
    "\n",
    "Вычислить $\\lim\\limits_{x \\to i} \\left( \\frac{i x^2 + 2 x - 6}{x} + 5 i x^2 \\right)$.\n",
    "\n",
    "Вычислить $\\sum\\limits_{k=1}^{\\infty} \\frac{k+3k^2}{5^k}$.\n",
    "\n",
    "Найти  решение системы дифференциальных уравнений $\\frac{d}{dx} f(x) = -5 f(x) - 20 g(x)$, $\\frac{d}{dx} g(x) = 5 f(x) + 7 g(x)$."
   ]
  },
  {
   "cell_type": "markdown",
   "metadata": {},
   "source": [
    "### задание 4\n",
    "\n",
    "Построить график функции $\\rho = 0.5 (\\cos t + 1)$ в полярных координатах"
   ]
  },
  {
   "cell_type": "markdown",
   "metadata": {},
   "source": [
    "### задание 5\n",
    "\n",
    "Решить матричное уравнение $AX + A^2 = C$, где $A = \\begin{pmatrix} 1&3\\\\1&0 \\end{pmatrix}$, $C = \\begin{pmatrix} 1&6\\\\1&0 \\end{pmatrix}$"
   ]
  },
  {
   "cell_type": "markdown",
   "metadata": {},
   "source": [
    "### задание 6\n",
    "\n",
    "Hайти площадь треугольника, вершинами которого являются точка $K(1, -4)$ и центры вписанной и описанной окружностей треугольника $ABC$, где $A(1, 4)$, $B(3, 0)$, $C(2,-2)$. Сделать чертеж."
   ]
  },
  {
   "cell_type": "markdown",
   "metadata": {},
   "source": [
    "### задание 7\n",
    "\n",
    "Найдите такие цифры $s$ и $a$, что число $s9a$ представляется в виде суммы двух кубов."
   ]
  }
 ],
 "metadata": {
  "kernelspec": {
   "display_name": "SageMath 7.6",
   "language": "",
   "name": "sagemath"
  },
  "language_info": {
   "codemirror_mode": {
    "name": "ipython",
    "version": 2
   },
   "file_extension": ".py",
   "mimetype": "text/x-python",
   "name": "python",
   "nbconvert_exporter": "python",
   "pygments_lexer": "ipython2",
   "version": "2.7.13"
  }
 },
 "nbformat": 4,
 "nbformat_minor": 2
}
