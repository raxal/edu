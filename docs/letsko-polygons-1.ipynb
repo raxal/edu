{
 "cells": [
  {
   "cell_type": "markdown",
   "metadata": {},
   "source": [
    "__Задача.__  \n",
    "Многоугольник задан координатами вершин.\n",
    "Диагонали разбивают его на некоторое количество новых многоугольников.\n",
    "Выписать все эти многоугольники.\n",
    "\n",
    "Посмотреть этот файл можно\n",
    "[здесь](https://github.com/raxal/edu-courses/blob/master/docs/letsko-polygons-1.ipynb) или \n",
    "[здесь](https://nbviewer.jupyter.org/github/raxal/edu-courses/blob/master/docs/letsko-polygons-1.ipynb)."
   ]
  },
  {
   "cell_type": "code",
   "execution_count": null,
   "metadata": {},
   "outputs": [],
   "source": [
    "class Point:\n",
    "    \"\"\"Точка пересечения даигоналей\"\"\"\n",
    "    \n",
    "    def __init__(self, coord):\n",
    "        self.x = coord[0]\n",
    "        self.y = coord[1]\n",
    "        self.xy = tuple(coord)\n",
    "        self.diags = []\n",
    "        self.nums = {}  # словарь: диагональ -> позиция точки на ней\n",
    "    \n",
    "    def __str__(self):\n",
    "        return str(self.xy)\n",
    "    \n",
    "    def __repr__(self):\n",
    "        return \"Point{}\".format(self.xy)"
   ]
  },
  {
   "cell_type": "code",
   "execution_count": null,
   "metadata": {},
   "outputs": [],
   "source": [
    "data = [[-3,-4],[2,-4],[4,-1],[4,3],[0,7],[-5,3],[-5,-1]]\n",
    "#data = [[-3,-4],[2,-4],[4,-1],[4,3],[0,7],[-5,-1],[-5,3]]  # не выпуклый\n",
    "data = [[-3,-4],[2,-4],[4,-1],[4,3],[0,7],[-5,-1]]"
   ]
  },
  {
   "cell_type": "code",
   "execution_count": null,
   "metadata": {},
   "outputs": [],
   "source": [
    "A = []\n",
    "for pair in data:\n",
    "    A.append(Point(pair))\n",
    "N = len(A)"
   ]
  },
  {
   "cell_type": "code",
   "execution_count": null,
   "metadata": {},
   "outputs": [],
   "source": [
    "pic = plot([])\n",
    "for i in range(N):\n",
    "    pic += plot(point(A[i].xy, color=\"red\", size=30))\n",
    "    pic += plot(text(\"$A[{}]$\".format(i), (A[i].x + 0.3, A[i].y), color=\"red\"))\n",
    "for i in range(N):\n",
    "    pic += plot(line([A[i].xy, A[(i+1)%N].xy]))\n",
    "for i in range(N-2):\n",
    "    for j in range(i+2, N):\n",
    "        if (i,j) == (0,N-1):\n",
    "            continue\n",
    "        pic += line([A[i].xy, A[j].xy], thickness=0.3, color=\"green\")\n",
    "pic.show()"
   ]
  },
  {
   "cell_type": "code",
   "execution_count": null,
   "metadata": {},
   "outputs": [],
   "source": [
    "import sympy.geometry as geom\n",
    "x, y = var('x, y')\n",
    "for i in range(N):\n",
    "    line_sympy = geom.Line(A[i].xy, A[(i+1)%N].xy)\n",
    "    eq = line_sympy.equation()._sage_()\n",
    "    sg = sign(eq(x = A[(i+2)%N].x, y = A[(i+2)%N].y))\n",
    "    for j in range(1, N-3):\n",
    "        sg_test = sign(eq(x = A[(i+2+j)%N].x, y = A[(i+2+j)%N].y))\n",
    "        assert sg_test == sg, \"Многоугольник не выпуклый\"\n",
    "del geom\n",
    "print(\"Многоугольник выпуклый\")"
   ]
  },
  {
   "cell_type": "code",
   "execution_count": null,
   "metadata": {},
   "outputs": [],
   "source": [
    "class Diag:\n",
    "    \"\"\"Диагональ\"\"\"\n",
    "    \n",
    "    def __init__(self, pair):\n",
    "        self.name = tuple(pair)\n",
    "        i,j = pair\n",
    "        \n",
    "        self.A = A[i]\n",
    "        self.B = A[j]\n",
    "        \n",
    "        import sympy.geometry as geom\n",
    "        x, y = var('x, y')\n",
    "        line_sympy = geom.Line(A[i].xy, A[j].xy)\n",
    "        self.eq = line_sympy.equation()._sage_()\n",
    "        \n",
    "        self.points = []\n",
    "    \n",
    "    def __str__(self):\n",
    "        return str(self.name)\n",
    "    \n",
    "    def __repr__(self):\n",
    "        return \"Diag{}\".format(self.name)\n",
    "\n",
    "diags_list_names = []  # список всех диагоналей по \"именам\"\n",
    "for i in range(N-2):\n",
    "    for j in range(i+2, N):\n",
    "        if (i,j) == (0,N-1):\n",
    "            continue\n",
    "        diags_list_names.append((i,j))\n",
    "\n",
    "diags_list = []        # список всех диагоналей по объектам\n",
    "diags_by_name = {}     # словарь для доступа к диагоналям по точкам\n",
    "for pair in diags_list_names:\n",
    "    diag_obj = Diag(pair)\n",
    "    diags_list.append(diag_obj)\n",
    "    diags_by_name[pair] = diag_obj\n",
    "\n",
    "for i in range(len(diags_list)):\n",
    "    for j in range(i+1, len(diags_list)):\n",
    "        diag1 = diags_list[i]\n",
    "        diag2 = diags_list[j]\n",
    "        if (diag1.name[0] in diag2.name) or (diag1.name[1] in diag2.name):\n",
    "            continue\n",
    "        sol = solve([diag1.eq, diag2.eq], [x,y], solution_dict=True)\n",
    "        if not sol:\n",
    "            continue\n",
    "        coord = (sol[0][x], sol[0][y])\n",
    "        # проверка: лежит ли пересечение внутри полигона\n",
    "        x_range = [diag1.A.x, diag1.B.x]\n",
    "        y_range = [diag1.A.y, diag1.B.y]\n",
    "        x_range.sort()\n",
    "        y_range.sort()\n",
    "        if (x_range[0] <= coord[0] <= x_range[1]) and \\\n",
    "           (y_range[0] <= coord[1] <= y_range[1]):\n",
    "            point_obj = Point(coord)\n",
    "            point_obj.diags.extend([diag1.name, diag2.name])\n",
    "            diag1.points.append(point_obj)\n",
    "            diag2.points.append(point_obj)\n",
    "\n",
    "for diag in diags_list:\n",
    "    diag.points.sort(key=lambda point_obj: point_obj.x)\n",
    "\n",
    "for diag in diags_list:\n",
    "    n = 0\n",
    "    for point_obj in diag.points:\n",
    "        point_obj.nums[diag.name] = n\n",
    "        n += 1"
   ]
  },
  {
   "cell_type": "code",
   "execution_count": null,
   "metadata": {},
   "outputs": [],
   "source": [
    "def neighbors(point_obj):\n",
    "    \"\"\"Возвращает соседние точки пересечения на всех диагоналях\"\"\"\n",
    "    \n",
    "    neighbors = []\n",
    "    for diag in point_obj.diags:\n",
    "        n = point_obj.nums[diag]\n",
    "        if n > 0:\n",
    "            neighbors.append(diags_by_name[diag].points[n-1])\n",
    "        if n < len(diags_by_name[diag].points) - 1:\n",
    "            neighbors.append(diags_by_name[diag].points[n+1])\n",
    "    return neighbors"
   ]
  }
 ],
 "metadata": {
  "kernelspec": {
   "display_name": "SageMath 8.7",
   "language": "",
   "name": "sagemath"
  },
  "language_info": {
   "codemirror_mode": {
    "name": "ipython",
    "version": 2
   },
   "file_extension": ".py",
   "mimetype": "text/x-python",
   "name": "python",
   "nbconvert_exporter": "python",
   "pygments_lexer": "ipython2",
   "version": "2.7.15"
  }
 },
 "nbformat": 4,
 "nbformat_minor": 2
}
