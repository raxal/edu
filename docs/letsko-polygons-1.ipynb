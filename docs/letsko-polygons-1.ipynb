{
 "cells": [
  {
   "cell_type": "markdown",
   "metadata": {},
   "source": [
    "__Задача.__  \n",
    "Многоугольник задан координатами вершин.\n",
    "Диагонали разбивают его на некоторое количество новых многоугольников.\n",
    "Выписать все эти многоугольники.\n",
    "\n",
    "Посмотреть этот файл можно [здесь](https://github.com/raxal/edu-courses/blob/master/docs/letsko-polygons-1.ipynb)."
   ]
  },
  {
   "cell_type": "code",
   "execution_count": null,
   "metadata": {},
   "outputs": [],
   "source": [
    "class Point:\n",
    "    \"\"\"Точка пересечения даигоналей\"\"\"\n",
    "    def __init__(self, coord):\n",
    "        self.x = coord[0]\n",
    "        self.y = coord[1]\n",
    "        self.xy = tuple(coord)\n",
    "    def __str__(self):\n",
    "        return str(self.coord)\n",
    "    def __repr__(self):\n",
    "        return \"Point{}\".format(self.coord)"
   ]
  },
  {
   "cell_type": "code",
   "execution_count": null,
   "metadata": {},
   "outputs": [],
   "source": [
    "#data = [(1,2), (4,0), (3,3)]\n",
    "data = [[-3,-4],[2,-4],[4,-1],[4,3],[0,7],[-5,3],[-5,-1]]\n",
    "#data = [[-3,-4],[2,-4],[4,-1],[4,3],[0,7],[-5,-1],[-5,3]]  # не выпуклый"
   ]
  },
  {
   "cell_type": "code",
   "execution_count": null,
   "metadata": {},
   "outputs": [],
   "source": [
    "A = []\n",
    "for pair in data:\n",
    "    A.append(Point(pair))\n",
    "N = len(A)"
   ]
  },
  {
   "cell_type": "code",
   "execution_count": null,
   "metadata": {},
   "outputs": [],
   "source": [
    "pic = plot([])\n",
    "for i in range(N):\n",
    "    pic += plot(point(A[i].xy, color=\"red\", size=30))\n",
    "for i in range(N):\n",
    "    pic += plot(line([A[i].xy, A[(i+1)%N].xy]))\n",
    "pic.show()"
   ]
  },
  {
   "cell_type": "code",
   "execution_count": null,
   "metadata": {},
   "outputs": [],
   "source": [
    "import sympy.geometry as geom\n",
    "x, y = var('x, y')\n",
    "for i in range(N):\n",
    "    line_sympy = geom.Line(A[i].xy, A[(i+1)%N].xy)\n",
    "    eq = (line_sympy.equation())._sage_()\n",
    "    sg = sign(eq(x = A[(i+2)%N].x, y = A[(i+2)%N].y))\n",
    "    for j in range(1, N-3):\n",
    "        sg_test = sign(eq(x = A[(i+2+j)%N].x, y = A[(i+2+j)%N].y))\n",
    "        assert sg_test == sg, \"Многоугольник не выпуклый\"\n",
    "del geom\n",
    "print(\"Многоугольник выпуклый\")"
   ]
  }
 ],
 "metadata": {
  "kernelspec": {
   "display_name": "SageMath 8.7",
   "language": "",
   "name": "sagemath"
  },
  "language_info": {
   "codemirror_mode": {
    "name": "ipython",
    "version": 2
   },
   "file_extension": ".py",
   "mimetype": "text/x-python",
   "name": "python",
   "nbconvert_exporter": "python",
   "pygments_lexer": "ipython2",
   "version": "2.7.15"
  }
 },
 "nbformat": 4,
 "nbformat_minor": 2
}
