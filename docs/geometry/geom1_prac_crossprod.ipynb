{
 "cells": [
  {
   "cell_type": "markdown",
   "metadata": {},
   "source": [
    "Давайте решим пару задач с применением векторного и смешанного произведения.\n",
    "\n",
    "__1.__ При каком значении $\\alpha \\in \\mathbb R$ векторы $\\vec p = \\alpha \\vec a + 6 \\vec b$ и $\\vec q = 2 \\vec a - \\vec b$ коллинеарны, если известно, что $\\vec a$ и $\\vec b$ не коллинеарны?\n",
    "\n",
    "Векторное произведение, которое будем обозначать $[\\vec a, \\vec b]$ (еще можно увидеть обозначение $\\vec a \\times \\vec b$), по определению есть вектор длины $|\\vec a||\\vec b| \\sin (\\vec a, \\vec b)$.\n",
    "\n",
    "Если $\\vec a$ и $\\vec b$ коллинеарны, то угол между ними $(\\vec a, \\vec b)$ равен $0$ или $\\pi$, $\\sin (\\vec a, \\vec b) = 0$ и $[\\vec a, \\vec b] = 0$.\n",
    "\n",
    "На самом деле, для ненулевых $\\vec a, \\vec b$: $$[\\vec a, \\vec b] = \\vec 0 \\Longleftrightarrow \\vec a = \\lambda \\vec b,$$\n",
    "т.е., по-русски, когда они коллинеарны.\n",
    "\n",
    "Хорошо, о чем это мы?\n",
    "\n",
    "При каком значении $\\alpha$, $[\\vec p, \\vec q] = \\vec 0$?\n",
    "Применяя алгебраические свойства векторного произведения, $[\\vec p, \\vec q] = [\\alpha \\vec a + 6 \\vec b, 2 \\vec a - \\vec b] = ^*$ можно раскрыть скобки $^* = \\underbrace{[\\alpha\\vec a, 2\\vec a]}_{=\\vec 0} + [\\alpha\\vec a, -\\vec b] + [6\\vec b, 2\\vec a] + \\underbrace{[6\\vec b,-\\vec b]}_{=\\vec 0} = ^*$ и переставить сомножители $^* = [\\alpha\\vec a, -\\vec b] - [2\\vec a, 6\\vec b] = ^*$ вынесем $-6$ $^* = [\\alpha\\vec a, -\\vec b] - (-6) [2\\vec a, -\\vec b] = ^*$ занесем обратно $^* = [\\alpha\\vec a, -\\vec b] - [-12\\vec a, -\\vec b]$. Вопрос: какое $\\alpha$ взять чтобы они совпали? Очевидно, $\\alpha = -12$.\n",
    "\n",
    "__2.__ Найти расстояние от точки $P$ до плоскости $ABC$, если $A(2, 3, 1)$, $B(4, 1, -2)$, $C(6, 3, 7)$, $P(-5, -4, 8)$.\n",
    "\n",
    "Если мысленно представить параллелепипед с основанием $ABCD$ и вершиной $P$, то длина его высоты из $P$ и будет расстоянием.\n",
    "\n",
    "По теореме о абсолютной величине смешанного произведения $\\vec{AB}\\, \\vec{AC}\\, \\vec{AP}$ даст объем параллелепипеда.\n",
    "Площадь параллелограмма $ABCD$ в основании равна длине векторного произведения $[\\vec{AB}, \\vec{AC}]$.\n",
    "Таким образом, искомая длина равна $$d = \\frac{|\\vec{AB}\\, \\vec{AC}\\, \\vec{AP}|}{|[\\vec{AB}, \\vec{AC}]|}$$\n",
    "Осталось все посчитать.\n",
    "\n",
    "$\\vec{AB}(2, -2, -3)$, $\\vec{AC}(4, 0, 6)$,\n",
    "$$[\\vec{AB}, \\vec{AC}] = \\left(\n",
    "\\begin{vmatrix} -2 & 0\\\\ -3 & 6 \\end{vmatrix},\n",
    "-\\begin{vmatrix} 2 & 4\\\\ -3 & 6 \\end{vmatrix},\n",
    "\\begin{vmatrix} 2 & 4 \\\\ -2 & 0 \\end{vmatrix}\n",
    "\\right)$$\n",
    "\n",
    "*Чтобы запомнить эту формулу векторного произведения, можно представить, что мы вычисляем определитель (раскладывая по первой строке, чтобы получить коэффициенты при базисных векторах $\\vec i, \\vec j, \\vec k$)*\n",
    "$$\\begin{vmatrix} \\vec i & \\vec j & \\vec k\\\\ 2 & -2 & -3\\\\ 4 & 0 & 6 \\end{vmatrix}$$\n",
    "\n",
    "$[\\vec{AB}, \\vec{AC}] (-12,-24,8)$ и $|[\\vec{AB}, \\vec{AC}]| = 28$\n",
    "\n",
    "$\\vec{AP}(-7, -7, 7)$,\n",
    "$$\\vec{AB}\\, \\vec{AC}\\, \\vec{AP} =\n",
    "\\begin{vmatrix}\n",
    "2 & 4 & -7\\\\\n",
    "-2 & 0 & -7\\\\\n",
    "-3 & 6 & 7\n",
    "\\end{vmatrix} = 308$$\n",
    "\n",
    "$d = \\dfrac{308}{28} = 11$"
   ]
  }
 ],
 "metadata": {
  "kernelspec": {
   "display_name": "SageMath 9.0",
   "language": "sage",
   "name": "sagemath"
  },
  "language_info": {
   "codemirror_mode": {
    "name": "ipython",
    "version": 3
   },
   "file_extension": ".py",
   "mimetype": "text/x-python",
   "name": "python",
   "nbconvert_exporter": "python",
   "pygments_lexer": "ipython3",
   "version": "3.7.3"
  }
 },
 "nbformat": 4,
 "nbformat_minor": 2
}
