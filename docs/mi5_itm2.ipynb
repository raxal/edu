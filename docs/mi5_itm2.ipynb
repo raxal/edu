{
 "cells": [
  {
   "cell_type": "markdown",
   "metadata": {},
   "source": [
    "# Работа с Sage\n",
    "\n",
    "Мы будем использовать систему компьютерной алгебры [SageMath](http://sagemath.org/) для решения некоторой задачи.\n",
    "Она чем-то похожа на грандов Maple и Mathematica, но состоит из нескольких десятков отдельных программ и библиотек, объединенных общим интерфейсом.\n",
    "\n",
    "Это свободно распространяемая программа.\n",
    "Пользоваться ей можно как установив программу на свой компьютер, так и используя один из сервисов через интернет.\n",
    "\n",
    "В качестве основы в SageMath используется язык общего назначения Python 3.\n",
    "Почитайте несколько первых пунктов введения на русском языке [Tutorial](https://doc.sagemath.org/html/ru/tutorial/tour.html), которого будет достаточно для начала."
   ]
  },
  {
   "cell_type": "markdown",
   "metadata": {},
   "source": [
    "## Продолжим\n",
    "\n",
    "Мы решаем такую задачу:\n",
    "> Представьте, что есть _наблюдатель_, _объект наблюдения_ и некоторая _преграда_.  \n",
    "> Нужно определить, видит ли наблюдатель этот объект или нет.\n",
    "\n",
    "Будем использовать _трассировку лучей_: выпустим луч от _наблюдателя_ к _объекту_ и если он пересекает _преграду_, то ответ \"Не видит\", иначе - ответ \"Видит\".\n",
    "\n",
    "![img](https://upload.wikimedia.org/wikipedia/commons/thumb/8/83/Ray_trace_diagram.svg/320px-Ray_trace_diagram.svg.png)\n",
    "\n",
    "Предполагаем, что _объект наблюдения_ - точка (ясно, что это частный случай более общей ситуации), а _преграда_ - плоский многоугольник P.\n",
    "Все задано декартовыми координатами точек в трехмерном пространстве.\n",
    "\n",
    "Запланированы были следующие шаги:\n",
    "\n",
    "1. [x] Найдем пересечение X отрезка от _наблюдателя_ до _объекта_ с плоскостью _преграды_.\n",
    "2. [ ] Преобразуем координаты P и X в координаты на плоскости P.\n",
    "3. [ ] Определим, лежит ли X внутри многоугольника P.\n",
    "\n",
    "И мы уже немного продвинулись (в понимании, по крайней мере) к цели рассматривая примеры.\n",
    "\n",
    "Давайте рассмотрим еще пару примеров."
   ]
  },
  {
   "cell_type": "markdown",
   "metadata": {},
   "source": [
    "Создадим матрицу и сделаем с ней всякого."
   ]
  },
  {
   "cell_type": "code",
   "execution_count": 1,
   "metadata": {},
   "outputs": [
    {
     "data": {
      "text/plain": [
       "[1 2]\n",
       "[3 4]"
      ]
     },
     "execution_count": 1,
     "metadata": {},
     "output_type": "execute_result"
    }
   ],
   "source": [
    "M = matrix([[1,2],[3,4]])\n",
    "M"
   ]
  },
  {
   "cell_type": "markdown",
   "metadata": {},
   "source": [
    "или, если включить отрисовку формул,"
   ]
  },
  {
   "cell_type": "code",
   "execution_count": 2,
   "metadata": {},
   "outputs": [
    {
     "data": {
      "text/html": [
       "<html><script type=\"math/tex; mode=display\">\\newcommand{\\Bold}[1]{\\mathbf{#1}}\\left(\\begin{array}{rr}\n",
       "1 & 2 \\\\\n",
       "3 & 4\n",
       "\\end{array}\\right)</script></html>"
      ],
      "text/plain": [
       "[1 2]\n",
       "[3 4]"
      ]
     },
     "execution_count": 2,
     "metadata": {},
     "output_type": "execute_result"
    }
   ],
   "source": [
    "%display latex\n",
    "M"
   ]
  },
  {
   "cell_type": "code",
   "execution_count": 3,
   "metadata": {},
   "outputs": [
    {
     "data": {
      "text/html": [
       "<html><script type=\"math/tex; mode=display\">\\newcommand{\\Bold}[1]{\\mathbf{#1}}\\left(\\left(1, 2\\right), \\left(3, 4\\right)\\right)</script></html>"
      ],
      "text/plain": [
       "((1, 2), (3, 4))"
      ]
     },
     "execution_count": 3,
     "metadata": {},
     "output_type": "execute_result"
    }
   ],
   "source": [
    "# M как массив массивов\n",
    "(M[0][0], M[0][1]), ((M[1][0], M[1][1]))"
   ]
  },
  {
   "cell_type": "code",
   "execution_count": 4,
   "metadata": {},
   "outputs": [
    {
     "data": {
      "text/html": [
       "<html><script type=\"math/tex; mode=display\">\\newcommand{\\Bold}[1]{\\mathbf{#1}}\\left(\\left(1,\\,2\\right), \\left(3,\\,4\\right)\\right)</script></html>"
      ],
      "text/plain": [
       "((1, 2), (3, 4))"
      ]
     },
     "execution_count": 4,
     "metadata": {},
     "output_type": "execute_result"
    }
   ],
   "source": [
    "M[0], M[1]"
   ]
  },
  {
   "cell_type": "code",
   "execution_count": 5,
   "metadata": {},
   "outputs": [
    {
     "data": {
      "text/html": [
       "<html><script type=\"math/tex; mode=display\">\\newcommand{\\Bold}[1]{\\mathbf{#1}}-2</script></html>"
      ],
      "text/plain": [
       "-2"
      ]
     },
     "execution_count": 5,
     "metadata": {},
     "output_type": "execute_result"
    }
   ],
   "source": [
    "M.det()"
   ]
  },
  {
   "cell_type": "code",
   "execution_count": 6,
   "metadata": {},
   "outputs": [
    {
     "data": {
      "text/html": [
       "<html><script type=\"math/tex; mode=display\">\\newcommand{\\Bold}[1]{\\mathbf{#1}}\\left(\\begin{array}{rr}\n",
       "-2 & 1 \\\\\n",
       "\\frac{3}{2} & -\\frac{1}{2}\n",
       "\\end{array}\\right)</script></html>"
      ],
      "text/plain": [
       "[  -2    1]\n",
       "[ 3/2 -1/2]"
      ]
     },
     "execution_count": 6,
     "metadata": {},
     "output_type": "execute_result"
    }
   ],
   "source": [
    "M.inverse()"
   ]
  },
  {
   "cell_type": "code",
   "execution_count": 7,
   "metadata": {},
   "outputs": [
    {
     "data": {
      "text/html": [
       "<html><script type=\"math/tex; mode=display\">\\newcommand{\\Bold}[1]{\\mathbf{#1}}\\mathrm{True}</script></html>"
      ],
      "text/plain": [
       "True"
      ]
     },
     "execution_count": 7,
     "metadata": {},
     "output_type": "execute_result"
    }
   ],
   "source": [
    "M.inverse() == M^(-1)"
   ]
  },
  {
   "cell_type": "code",
   "execution_count": 8,
   "metadata": {},
   "outputs": [
    {
     "data": {
      "text/html": [
       "<html><script type=\"math/tex; mode=display\">\\newcommand{\\Bold}[1]{\\mathbf{#1}}\\left(10,\\,-6\\right)</script></html>"
      ],
      "text/plain": [
       "(10, -6)"
      ]
     },
     "execution_count": 8,
     "metadata": {},
     "output_type": "execute_result"
    }
   ],
   "source": [
    "v = vector([-2,6])\n",
    "M.inverse() * v"
   ]
  },
  {
   "cell_type": "code",
   "execution_count": 9,
   "metadata": {},
   "outputs": [
    {
     "data": {
      "text/html": [
       "<html><script type=\"math/tex; mode=display\">\\newcommand{\\Bold}[1]{\\mathbf{#1}}\\left(10,\\,-6\\right)</script></html>"
      ],
      "text/plain": [
       "(10, -6)"
      ]
     },
     "execution_count": 9,
     "metadata": {},
     "output_type": "execute_result"
    }
   ],
   "source": [
    "M.solve_right(v)  # решение M * x = v"
   ]
  },
  {
   "cell_type": "markdown",
   "metadata": {},
   "source": [
    "Еще один пример создания матрицы."
   ]
  },
  {
   "cell_type": "code",
   "execution_count": 10,
   "metadata": {},
   "outputs": [
    {
     "data": {
      "text/html": [
       "<html><script type=\"math/tex; mode=display\">\\newcommand{\\Bold}[1]{\\mathbf{#1}}\\left(\\begin{array}{rr}\n",
       "1 & 2 \\\\\n",
       "3 & 4\n",
       "\\end{array}\\right)</script></html>"
      ],
      "text/plain": [
       "[1 2]\n",
       "[3 4]"
      ]
     },
     "execution_count": 10,
     "metadata": {},
     "output_type": "execute_result"
    }
   ],
   "source": [
    "a = vector([1,2])\n",
    "b = vector([3,4])\n",
    "M = matrix([a,b])\n",
    "M"
   ]
  },
  {
   "cell_type": "code",
   "execution_count": 11,
   "metadata": {},
   "outputs": [
    {
     "data": {
      "text/html": [
       "<html><script type=\"math/tex; mode=display\">\\newcommand{\\Bold}[1]{\\mathbf{#1}}\\left(\\begin{array}{rr}\n",
       "1 & 2 \\\\\n",
       "\\frac{4}{5} & -\\frac{2}{5}\n",
       "\\end{array}\\right)</script></html>"
      ],
      "text/plain": [
       "[   1    2]\n",
       "[ 4/5 -2/5]"
      ]
     },
     "execution_count": 11,
     "metadata": {},
     "output_type": "execute_result"
    }
   ],
   "source": [
    "M_ort, T = M.gram_schmidt()  # строки ортогонализированы\n",
    "M_ort"
   ]
  },
  {
   "cell_type": "markdown",
   "metadata": {},
   "source": [
    "Процесс ортогонализации с нормированием к сожалению работает только для числовых матриц."
   ]
  },
  {
   "cell_type": "code",
   "execution_count": 12,
   "metadata": {},
   "outputs": [],
   "source": [
    "M1 = matrix(RDF, [a,b])  # та же матрица, но с действительными элементами (см. RDF?)"
   ]
  },
  {
   "cell_type": "code",
   "execution_count": 13,
   "metadata": {},
   "outputs": [
    {
     "data": {
      "text/html": [
       "<html><script type=\"math/tex; mode=display\">\\newcommand{\\Bold}[1]{\\mathbf{#1}}\\left(\\begin{array}{rr}\n",
       "-0.44721359549995787 & -0.8944271909999157 \\\\\n",
       "-0.8944271909999157 & 0.4472135954999581\n",
       "\\end{array}\\right)</script></html>"
      ],
      "text/plain": [
       "[-0.44721359549995787  -0.8944271909999157]\n",
       "[ -0.8944271909999157   0.4472135954999581]"
      ]
     },
     "execution_count": 13,
     "metadata": {},
     "output_type": "execute_result"
    }
   ],
   "source": [
    "M1_ort, T = M1.gram_schmidt(orthonormal=True)  # строки ортонормированы\n",
    "M1_ort"
   ]
  },
  {
   "cell_type": "markdown",
   "metadata": {},
   "source": [
    "но прямая проверка не дает положительный ответ, т.к. вычисления приближенные"
   ]
  },
  {
   "cell_type": "code",
   "execution_count": 14,
   "metadata": {},
   "outputs": [
    {
     "data": {
      "text/html": [
       "<html><script type=\"math/tex; mode=display\">\\newcommand{\\Bold}[1]{\\mathbf{#1}}\\left(\\begin{array}{rr}\n",
       "0.9999999999999997 & -2.220446049250313 \\times 10^{-16} \\\\\n",
       "-2.220446049250313 \\times 10^{-16} & 0.9999999999999999\n",
       "\\end{array}\\right)</script></html>"
      ],
      "text/plain": [
       "[    0.9999999999999997 -2.220446049250313e-16]\n",
       "[-2.220446049250313e-16     0.9999999999999999]"
      ]
     },
     "execution_count": 14,
     "metadata": {},
     "output_type": "execute_result"
    }
   ],
   "source": [
    "check = M1_ort * M1_ort.transpose()\n",
    "check"
   ]
  },
  {
   "cell_type": "code",
   "execution_count": 15,
   "metadata": {},
   "outputs": [
    {
     "data": {
      "text/html": [
       "<html><script type=\"math/tex; mode=display\">\\newcommand{\\Bold}[1]{\\mathbf{#1}}\\left(\\begin{array}{rr}\n",
       "1.0 & -0.0 \\\\\n",
       "-0.0 & 1.0\n",
       "\\end{array}\\right)</script></html>"
      ],
      "text/plain": [
       "[ 1.0 -0.0]\n",
       "[-0.0  1.0]"
      ]
     },
     "execution_count": 15,
     "metadata": {},
     "output_type": "execute_result"
    }
   ],
   "source": [
    "check.round(7)"
   ]
  },
  {
   "cell_type": "markdown",
   "metadata": {},
   "source": [
    "Можно немного дописав вычислить длины и разделить на них точно."
   ]
  },
  {
   "cell_type": "code",
   "execution_count": 16,
   "metadata": {},
   "outputs": [
    {
     "data": {
      "text/html": [
       "<html><script type=\"math/tex; mode=display\">\\newcommand{\\Bold}[1]{\\mathbf{#1}}\\left(\\begin{array}{rr}\n",
       "\\frac{1}{5} \\, \\sqrt{5} & \\frac{2}{5} \\, \\sqrt{5} \\\\\n",
       "2 \\, \\sqrt{\\frac{1}{5}} & -\\sqrt{\\frac{1}{5}}\n",
       "\\end{array}\\right)</script></html>"
      ],
      "text/plain": [
       "[1/5*sqrt(5) 2/5*sqrt(5)]\n",
       "[2*sqrt(1/5)  -sqrt(1/5)]"
      ]
     },
     "execution_count": 16,
     "metadata": {},
     "output_type": "execute_result"
    }
   ],
   "source": [
    "pr = M_ort * M_ort.transpose()  # по диагонали окажутся квадраты длины\n",
    "pr = pr.apply_map(sqrt).inverse()\n",
    "M_ortnormal = pr * M_ort\n",
    "M_ortnormal"
   ]
  },
  {
   "cell_type": "code",
   "execution_count": 17,
   "metadata": {},
   "outputs": [
    {
     "data": {
      "text/html": [
       "<html><script type=\"math/tex; mode=display\">\\newcommand{\\Bold}[1]{\\mathbf{#1}}\\left(\\begin{array}{rr}\n",
       "1 & 0 \\\\\n",
       "0 & 1\n",
       "\\end{array}\\right)</script></html>"
      ],
      "text/plain": [
       "[1 0]\n",
       "[0 1]"
      ]
     },
     "execution_count": 17,
     "metadata": {},
     "output_type": "execute_result"
    }
   ],
   "source": [
    "check = M_ortnormal * M_ortnormal.transpose()\n",
    "check"
   ]
  },
  {
   "cell_type": "markdown",
   "metadata": {},
   "source": [
    "## Что делать\n",
    "\n",
    "Напишите фрагменты кода, которые бы решали следующие задачи.\n",
    "\n",
    "__Задача 1.__ По координатам точек $A$, $B$, $C$ и $P$ найти координаты точки $P$ на плоскости $ABC$, например в системе координат $A \\vec e_1 \\vec e_2$, где $\\vec e_1 = \\vec{AB}$, $\\vec e_2 = \\vec{AC}$.\n",
    "\n",
    "__Задача 2.__ По _декартовым координатам_ (в ортонормированном базисе) точек $A$, $B$, $C$ и $P$ найти какие-нибудь _декартовы координаты_ точки $P$ на плоскости $ABC$."
   ]
  }
 ],
 "metadata": {
  "kernelspec": {
   "display_name": "SageMath 9.0",
   "language": "sage",
   "name": "sagemath"
  },
  "language_info": {
   "codemirror_mode": {
    "name": "ipython",
    "version": 3
   },
   "file_extension": ".py",
   "mimetype": "text/x-python",
   "name": "python",
   "nbconvert_exporter": "python",
   "pygments_lexer": "ipython3",
   "version": "3.7.3"
  }
 },
 "nbformat": 4,
 "nbformat_minor": 2
}
