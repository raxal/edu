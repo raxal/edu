{
 "cells": [
  {
   "cell_type": "markdown",
   "metadata": {},
   "source": [
    "# Работа с Sage\n",
    "\n",
    "Мы будем использовать систему компьютерной алгебры [SageMath](http://sagemath.org/) для решения некоторой задачи.\n",
    "Она чем-то похожа на грандов Maple и Mathematica, но состоит из нескольких десятков отдельных программ и библиотек, объединенных общим интерфейсом.\n",
    "\n",
    "Это свободно распространяемая программа.\n",
    "Пользоваться ей можно как установив программу на свой компьютер, так и используя один из сервисов через интернет.\n",
    "\n",
    "В качестве основы в SageMath используется язык общего назначения Python 3.\n",
    "Почитайте несколько первых пунктов введения на русском языке [Tutorial](https://doc.sagemath.org/html/ru/tutorial/tour.html), которого будет достаточно для начала."
   ]
  },
  {
   "cell_type": "markdown",
   "metadata": {},
   "source": [
    "## Завершение\n",
    "\n",
    "Мы решаем такую задачу:\n",
    "> Представьте, что есть _наблюдатель_, _объект наблюдения_ и некоторая _преграда_.  \n",
    "> Нужно определить, видит ли наблюдатель этот объект или нет.\n",
    "\n",
    "Будем использовать _трассировку лучей_: выпустим луч от _наблюдателя_ к _объекту_ и если он пересекает _преграду_, то ответ \"Не видит\", иначе - ответ \"Видит\".\n",
    "\n",
    "![img](https://upload.wikimedia.org/wikipedia/commons/thumb/8/83/Ray_trace_diagram.svg/320px-Ray_trace_diagram.svg.png)\n",
    "\n",
    "Предполагаем, что _объект наблюдения_ - точка (ясно, что это частный случай более общей ситуации), а _преграда_ - плоский многоугольник P.\n",
    "Все задано декартовыми координатами точек в трехмерном пространстве.\n",
    "\n",
    "Запланированы были следующие шаги:\n",
    "\n",
    "1. [x] Найдем пересечение X отрезка от _наблюдателя_ до _объекта_ с плоскостью _преграды_.\n",
    "2. [x] Преобразуем координаты P и X в координаты на плоскости P.\n",
    "3. [ ] Определим, лежит ли X внутри многоугольника P.\n",
    "\n",
    "Обсудим последний шаг в этом списке."
   ]
  },
  {
   "cell_type": "markdown",
   "metadata": {},
   "source": [
    "Стоит договориться, что мы рассмотрим простой, без самопересечений, многоугольник P, выпуклый или нет.\n",
    "Существует несколько известных способов определения лежит ли точка X внутри P.  \n",
    "Один из них такой: выпустим из X луч и посчитаем количество пересечений этого луча с ребрами P; если оно нечетно, то X внутри P.  \n",
    "Луч с каждым пересечением либо \"входит\" в многоугольник, либо \"выходит\" из него.\n",
    "Правда есть и особенности: пересечение лучом вершин, ...\n",
    "Но не будем об этом пока (и от этого есть разные трюки, например, выпустить другой луч).\n",
    "\n",
    "Пришло время примеров."
   ]
  },
  {
   "cell_type": "markdown",
   "metadata": {},
   "source": [
    "__Задача 1.__ По координатам точек $A,B,C,D$ определить, пересекает ли прямая $AB$ отрезок $CD$."
   ]
  },
  {
   "cell_type": "code",
   "execution_count": 1,
   "metadata": {},
   "outputs": [],
   "source": [
    "def is_line_cross_segment(A,B,C,D):\n",
    "    \"\"\"\n",
    "    Функция определяет ...\n",
    "    \"\"\"\n",
    "    AC = C-A\n",
    "    AD = D-A\n",
    "    AB = B-A\n",
    "    sign_C = sign(matrix([AC,AB]).det())  # это как умножить AC на перпендикуляр к AB,\n",
    "    sign_D = sign(matrix([AD,AB]).det())  # и знак определит остроту-тупость угла\n",
    "    if sign_C == sign_D:\n",
    "        return False\n",
    "    else:\n",
    "        return True"
   ]
  },
  {
   "cell_type": "code",
   "execution_count": 2,
   "metadata": {},
   "outputs": [],
   "source": [
    "A, B, C, D = vector((0,0)), vector((1,2)), vector((3,4)), vector((-1,2))"
   ]
  },
  {
   "cell_type": "code",
   "execution_count": 3,
   "metadata": {},
   "outputs": [],
   "source": [
    "A, B, C, D = map(vector, [(0, 0), (1, 2), (3, 4), (-1, 2)])"
   ]
  },
  {
   "cell_type": "code",
   "execution_count": 4,
   "metadata": {},
   "outputs": [
    {
     "data": {
      "image/png": "[encoded data removed]",
      "text/plain": [
       "Graphics object consisting of 2 graphics primitives"
      ]
     },
     "metadata": {},
     "output_type": "display_data"
    }
   ],
   "source": [
    "AB = B-A\n",
    "pic = parametric_plot(A+x*AB, (x, -2, 3), color='blue') + line([C,D], color='red')\n",
    "show(pic)"
   ]
  },
  {
   "cell_type": "code",
   "execution_count": 5,
   "metadata": {},
   "outputs": [
    {
     "data": {
      "text/plain": [
       "True"
      ]
     },
     "execution_count": 5,
     "metadata": {},
     "output_type": "execute_result"
    }
   ],
   "source": [
    "is_line_cross_segment(A,B,C,D)"
   ]
  },
  {
   "cell_type": "markdown",
   "metadata": {},
   "source": [
    "А теперь эти проверки можно делать массово:"
   ]
  },
  {
   "cell_type": "code",
   "execution_count": 6,
   "metadata": {},
   "outputs": [],
   "source": [
    "E, F = vector((0,-2)), vector((2,1))"
   ]
  },
  {
   "cell_type": "code",
   "execution_count": 7,
   "metadata": {},
   "outputs": [
    {
     "name": "stdout",
     "output_type": "stream",
     "text": [
      "True\n",
      "False\n",
      "False\n",
      "True\n"
     ]
    }
   ],
   "source": [
    "segments = [[C,D], [E,F], [E,C], [E,D]]\n",
    "for seg in segments:\n",
    "    print(is_line_cross_segment(A,B,seg[0],seg[1]))"
   ]
  },
  {
   "cell_type": "markdown",
   "metadata": {},
   "source": [
    "## Что делать\n",
    "\n",
    "Напишите функции, которые бы решали следующие задачи.\n",
    "\n",
    "__Задача 2.__ По координатам точек $A,B,C,D$ определить, пересекает ли луч $AB$ отрезок $CD$.\n",
    "\n",
    "Теперь мы готовы для решения\n",
    "\n",
    "__Задача 3.__ По координатам точек L, S и списку координат вершин плоского многоугольника P определить, пересекает ли отрезок LS многоугольник P."
   ]
  },
  {
   "cell_type": "code",
   "execution_count": null,
   "metadata": {},
   "outputs": [],
   "source": [
    "# тест 1 - да\n",
    "S = vector([0,0,0])\n",
    "L = vector([3,3,2])\n",
    "P = [[2,0,0], [2,0,2], [0,2,2], [0,2,0]]"
   ]
  },
  {
   "cell_type": "code",
   "execution_count": null,
   "metadata": {},
   "outputs": [],
   "source": [
    "# тест 2 - нет\n",
    "S = vector((-41/5, -101/5, -32/5))\n",
    "L = vector((19/5, -41/5, 28/5))\n",
    "P = [(-2, -8, -2), (-3, -12, -3), (-8, -14, 1),\n",
    "     (-3, -18, -6), (-1, -22, -10), (4, -20, -14),\n",
    "     (5, -16, -13), (3, -12, -9), (1, -8, -5)]"
   ]
  },
  {
   "cell_type": "code",
   "execution_count": null,
   "metadata": {},
   "outputs": [],
   "source": [
    "# тест 3 - ?\n",
    "S = vector((-7, -19, -7))\n",
    "L = vector((2, -10, 2))\n",
    "P = [(-2, -8, -2), (-3, -12, -3), (-8, -14, 1),\n",
    "     (-3, -18, -6), (-1, -22, -10), (4, -20, -14),\n",
    "     (5, -16, -13), (3, -12, -9), (1, -8, -5)]"
   ]
  }
 ],
 "metadata": {
  "kernelspec": {
   "display_name": "SageMath 9.0",
   "language": "sage",
   "name": "sagemath"
  },
  "language_info": {
   "codemirror_mode": {
    "name": "ipython",
    "version": 3
   },
   "file_extension": ".py",
   "mimetype": "text/x-python",
   "name": "python",
   "nbconvert_exporter": "python",
   "pygments_lexer": "ipython3",
   "version": "3.7.3"
  }
 },
 "nbformat": 4,
 "nbformat_minor": 2
}
