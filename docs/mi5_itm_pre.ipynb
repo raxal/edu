{
 "cells": [
  {
   "cell_type": "markdown",
   "id": "a27bc655",
   "metadata": {},
   "source": [
    "# Знакомство с SageMath\n",
    "\n",
    "Получить ответы для задач с помощью системы компьютерной алгебры SageMath, а также с помощью сервиса [Wolfram|Alpha](https://www.wolframalpha.com/), предоставляющего вычислительные возможности системы Mathematica.\n",
    "\n",
    "Справку по [SageMath](http://www.sagemath.org/) ищите на официальном сайте.\n",
    "На русском языке есть краткое [Руководство](http://doc.sagemath.org/html/ru/tutorial/index.html)."
   ]
  },
  {
   "cell_type": "markdown",
   "id": "7a23047b",
   "metadata": {},
   "source": [
    "---"
   ]
  },
  {
   "cell_type": "markdown",
   "id": "e27fb3e3",
   "metadata": {},
   "source": [
    "Найти наименьшее и наибольшее из чисел $a^{67}, 187a^4, 3\\ln a^2$ при $a=3/2$."
   ]
  },
  {
   "cell_type": "markdown",
   "id": "3c6472af",
   "metadata": {},
   "source": [
    "Вычислить $\\lim\\limits_{x \\to 3}\\frac{x-3}{3-\\sqrt{x+6}}$."
   ]
  },
  {
   "cell_type": "markdown",
   "id": "2718eaf5",
   "metadata": {},
   "source": [
    "Вычислить $\\sum\\limits_{k=1}^{\\infty} \\frac{k+3k^2}{5^k}$."
   ]
  },
  {
   "cell_type": "markdown",
   "id": "b20a9c8d",
   "metadata": {},
   "source": [
    "Вычислить $\\int{\\frac{x}{\\sqrt{x^2+x+1}}dx}$."
   ]
  },
  {
   "cell_type": "markdown",
   "id": "0baafdf6",
   "metadata": {},
   "source": [
    "Построить график функции $\\rho = 0.5 (\\cos t + 1)$ в полярных координатах."
   ]
  },
  {
   "cell_type": "markdown",
   "id": "37254504",
   "metadata": {},
   "source": [
    "---"
   ]
  },
  {
   "cell_type": "markdown",
   "id": "e9b7fb8b",
   "metadata": {},
   "source": [
    "Решить уравнение $x^6 + 3x^4 - 6x^2 - 8 = 0$."
   ]
  },
  {
   "cell_type": "markdown",
   "id": "7085ebcd",
   "metadata": {},
   "source": [
    "Решить уравнение $x^4 - 3a x^2 + 2 = 0$, считая $x$ переменной, а $a$ - параметром."
   ]
  },
  {
   "cell_type": "markdown",
   "id": "7ff3e19f",
   "metadata": {},
   "source": [
    "Решить уравнение $\\cos x = \\cos x^2$.\n",
    "\n",
    "**_Подсказка:_**  \n",
    "Можно использовать различные дополнительные настройки для функции `solve`: смотри `solve?`  \n",
    "(использовать модуль SymPy или использовать метод `to_poly_solve` для Maxima)"
   ]
  },
  {
   "cell_type": "markdown",
   "id": "72b9742d",
   "metadata": {},
   "source": [
    "Решить в целых числах $x^2 = 3y + 1$.\n",
    "\n",
    "**_Подсказка:_**  \n",
    "При объявлении переменных с помощью `var` можно указывать область определения.  \n",
    "После объявления переменных для них можно задавать предположения `assume`."
   ]
  },
  {
   "cell_type": "markdown",
   "id": "1809c161",
   "metadata": {},
   "source": [
    "---"
   ]
  },
  {
   "cell_type": "markdown",
   "id": "e3bb15c3",
   "metadata": {},
   "source": [
    "Найдите разложение вектора $(1,0,1,2)$ по векторам $(2,1,3,1)$, $(-1,3,-2,1)$, $(1,-1,2,-1)$, $(-1,-1,-2,1)$.\n",
    "\n",
    "**_Подсказка:_**  \n",
    "Можно использовать матрицы и метод `solve_right` для решения матричного уравнения."
   ]
  },
  {
   "cell_type": "markdown",
   "id": "24562a80",
   "metadata": {},
   "source": [
    "---"
   ]
  },
  {
   "cell_type": "markdown",
   "id": "6f82f30f",
   "metadata": {},
   "source": [
    "Проверить число $2^{257}-1$ на простоту.\n",
    "Найти разложение числа на простые множители."
   ]
  },
  {
   "cell_type": "markdown",
   "id": "0f20bce2",
   "metadata": {},
   "source": [
    "---"
   ]
  },
  {
   "cell_type": "markdown",
   "id": "52ce9acf",
   "metadata": {},
   "source": [
    "Найти НОК многочленов $$ix^5 + (1+2i)x^4 + (2+i)x^3 + (3-2i)x^2 + Ix - 1$$ и $$x^4 + (2-i)x^3 + ix^2 + (-1 + 3i)x - 1+i$$\n",
    "\n",
    "\n",
    "**_Подсказка:_**  \n",
    "При первоначальном вводе многочлены имеют тип символьных выражений и к ним не применимы методы для многочленов.\n",
    "Можно попробовать конвертировать их в многочлены над полем Гауссовых рациональных чисел `QQ[I]` с помощью метода `Expression.polynomial()`."
   ]
  },
  {
   "cell_type": "markdown",
   "id": "d14bb0ac",
   "metadata": {},
   "source": [
    "---"
   ]
  },
  {
   "cell_type": "markdown",
   "id": "ee800464",
   "metadata": {},
   "source": [
    "Hайти площадь треугольника, вершинами которого являются точка $K(1, -4)$ и центры вписанной и описанной окружностей треугольника $ABC$, где $A(1, 4)$, $B(3, 0)$, $C(2,-2)$.\n",
    "\n",
    "**_Подсказка:_**  \n",
    "Помимо явных вычислений можно прибегнуть к помощи геометрическим возможностям из SymPy:\n",
    "[посмотреть](https://docs.sympy.org/latest/modules/geometry/index.html) доступные функции.  \n",
    "Импорт модуля:\n",
    "```python\n",
    "import sympy.geometry as sg\n",
    "```\n",
    "Его использование:\n",
    "```python\n",
    "A = sg.Point(1, 2)\n",
    "B = sg.Point(3,-4)\n",
    "AB = A.distance(B)\n",
    "lineAB = Line(A,B)\n",
    "```\n",
    "Но это объекты стороннего модуля, поэтому их придется конвертировать обратно для Sage:\n",
    "```python\n",
    "print(list(A))\n",
    "eqAB = lineAB.equation()\n",
    "print(eqAB._sage_())\n",
    "```"
   ]
  }
 ],
 "metadata": {
  "kernelspec": {
   "display_name": "SageMath 9.8",
   "language": "sage",
   "name": "sagemath"
  },
  "language_info": {
   "codemirror_mode": {
    "name": "ipython",
    "version": 3
   },
   "file_extension": ".py",
   "mimetype": "text/x-python",
   "name": "python",
   "nbconvert_exporter": "python",
   "pygments_lexer": "ipython3",
   "version": "3.11.1"
  }
 },
 "nbformat": 4,
 "nbformat_minor": 5
}
