{
 "cells": [
  {
   "cell_type": "code",
   "execution_count": null,
   "metadata": {},
   "outputs": [],
   "source": [
    "\"\"\"\n",
    "AUTHORS:\n",
    "\"\"\"\n",
    "\n",
    "def problem_001(n = 3, k = 1):\n",
    "    \"\"\"\n",
    "    Случайно создает условия задачи:\n",
    "    Найти расстояние от точки до k-мерной плоскости в n-мерном пространстве.\n",
    "    \n",
    "    INPUT:\n",
    "    - `n` -- размерность пространства\n",
    "    - `k` -- размерность плоскости\n",
    "    \n",
    "    OUTPUT:\n",
    "    (text, answer)\n",
    "    \n",
    "    EXAMPLES:\n",
    "    \"\"\"\n",
    "    point_P = random_vector(ZZ, n)\n",
    "    point_M = random_vector(ZZ, n)  # ортогональная проекция P\n",
    "    vec_MP = point_P - point_M\n",
    "    answer = vec_MP.norm()\n",
    "\n",
    "    matrix_MP = matrix(ZZ, vec_MP)\n",
    "    V_ortho_compl = matrix_MP.right_kernel().basis()  # ортогональное дополнение vec_MP\n",
    "    V = V_ortho_compl[:k]\n",
    "    \n",
    "    for v in V:\n",
    "        point_M = point_M + choice([1,-1])*v\n",
    "    \n",
    "    text = (\"Найти расстояние от точки P{} до плоскости\"\n",
    "            \"с начальной точкой M{} и направляющими векторами {}\").format(point_P, point_M, V)\n",
    "    \n",
    "    return (text, answer)"
   ]
  },
  {
   "cell_type": "code",
   "execution_count": null,
   "metadata": {},
   "outputs": [],
   "source": [
    "help(problem_001)"
   ]
  },
  {
   "cell_type": "code",
   "execution_count": null,
   "metadata": {},
   "outputs": [],
   "source": [
    "text, ans = problem_001()"
   ]
  },
  {
   "cell_type": "code",
   "execution_count": null,
   "metadata": {},
   "outputs": [],
   "source": [
    "print(text)"
   ]
  },
  {
   "cell_type": "code",
   "execution_count": null,
   "metadata": {},
   "outputs": [],
   "source": [
    "print(ans)"
   ]
  }
 ],
 "metadata": {
  "kernelspec": {
   "display_name": "SageMath 8.4",
   "language": "",
   "name": "sagemath"
  },
  "language_info": {
   "codemirror_mode": {
    "name": "ipython",
    "version": 2
   },
   "file_extension": ".py",
   "mimetype": "text/x-python",
   "name": "python",
   "nbconvert_exporter": "python",
   "pygments_lexer": "ipython2",
   "version": "2.7.15"
  }
 },
 "nbformat": 4,
 "nbformat_minor": 2
}
